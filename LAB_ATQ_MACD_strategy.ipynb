{
  "cells": [
    {
      "cell_type": "markdown",
      "metadata": {
        "id": "view-in-github",
        "colab_type": "text"
      },
      "source": [
        "<a href=\"https://colab.research.google.com/github/keynes99/MetNumUN2024II/blob/main/LAB_ATQ_MACD_strategy.ipynb\" target=\"_parent\"><img src=\"https://colab.research.google.com/assets/colab-badge.svg\" alt=\"Open In Colab\"/></a>"
      ]
    },
    {
      "cell_type": "markdown",
      "metadata": {
        "id": "L_Ygcz-I08yf"
      },
      "source": [
        "#   Q18 Machine Learning Rolling Basis\n",
        "\n",
        "In this example we predict whether the price will rise or fall by using supervised learning (Bayesian Ridge Regression). This template represents a starting point for developing a system which can take part to the **Q18 NASDAQ-100 Stock Long-Short contest**.\n",
        "\n",
        "It consists of two parts.\n",
        "\n",
        "* In the **first part** we just perform a global training of the time series using all time series data. We disregard the sequential aspect of the data and use also future data to train past data.\n",
        "\n",
        "* In the **second part** we use the built-in backtester and perform training and prediction on a rolling basis in order to avoid forward looking. Please note that we are using a **specialized** version of the Quantiacs backtester which dramatically speeds up the the backtesting process by retraining your model on a regular basis.\n",
        "\n",
        "**Features for learning**: we will use several technical indicators trying to capture different features. You can have a look at [**Technical Indicators**](https://quantiacs.com/documentation/en/user_guide/technical_indicators.html).\n",
        "\n",
        "Please note that:\n",
        "\n",
        "* Your trading algorithm can open short and long positions.\n",
        "\n",
        "* At each point in time your algorithm can trade all or a subset of the stocks which at that point of time are or were part of the NASDAQ-100 stock index. Note that the composition of this set changes in time, and Quantiacs provides you with an appropriate filter function for selecting them.\n",
        "\n",
        "* The Sharpe ratio of your system since January 1st, 2006, has to be larger than 1.\n",
        "\n",
        "* Your system cannot be a copy of the current examples. We run a correlation filter on the submissions and detect duplicates.\n",
        "\n",
        "* For simplicity we will use a single asset. It pays off to use more assets, ideally uncorrelated, and diversify your positions for a more solid Sharpe ratio.\n",
        "\n",
        "More details on the rules can be found [here](https://quantiacs.com/contest).\n",
        "\n",
        "**Need help?** Check the [**Documentation**](https://quantiacs.com/documentation/en/) and find solutions/report problems in the [**Forum**](https://quantiacs.com/community/categories) section.\n",
        "\n",
        "**More help with Jupyter?** Check the official [**Jupyter**](https://jupyter.org/) page.\n",
        "\n",
        "Once you are done, click on **Submit to the contest** and take part to our competitions.\n",
        "\n",
        "API reference:\n",
        "\n",
        "* **data**: check how to work with [data](https://quantiacs.com/documentation/en/reference/data_load_functions.html);\n",
        "\n",
        "* **backtesting**: read how to run the [simulation](https://quantiacs.com/documentation/en/reference/evaluation.html) and check the results.\n",
        "\n",
        "Need to use the optimizer function to automate tedious tasks?\n",
        "\n",
        "* **optimization**: read more on our [article](https://quantiacs.com/community/topic/29/optimizing-and-monitoring-a-trading-system-with-quantiacs)."
      ]
    },
    {
      "cell_type": "markdown",
      "metadata": {
        "id": "hEtoDp9l08yr"
      },
      "source": [
        "# How to submit a strategy to the competition?\n",
        "\n",
        "Check that weights are fine:\n",
        "\n",
        "```python\n",
        "import qnt.output as qnout\n",
        "qnout.check(weights, data, \"stocks_nasdaq100\")\n",
        "```\n",
        "\n",
        "If everything is ok, write the weights to file:\n",
        "\n",
        "```python\n",
        "qnout.write(weights)\n",
        "```\n",
        "\n",
        "In your **personal account**:\n",
        "\n",
        "* **choose** a strategy;\n",
        "* click on the **Submit** button;\n",
        "* select the type of competition.\n",
        "\n",
        "At the beginning you will find the strategy under the **Checking** area:\n",
        "\n",
        "* **Sent strategies** > **Checking**.\n",
        "\n",
        "If technical checks are successful, the strategy will go under the **Candidates** area:\n",
        "\n",
        "* **Sent strategies** > **Candidates**.\n",
        "\n",
        "Otherwise it will be **Filtered**:\n",
        "\n",
        "* **Sent strategies** > **Filtered**\n",
        "\n",
        "and you should inspect error and warning messages.\n",
        "\n",
        "Note that a strategy under the **Candidates** area should have a Sharpe ratio larger than 1 for being eligible for a prize. Please check warning messages in your **Candidates** area!"
      ]
    },
    {
      "cell_type": "markdown",
      "source": [
        "**MACD strategy is based on the Moving Average Convergence/Divergence (MACD) indicator. It enters long whenever MACD Histogram changes from negative to positive, and switches to short if the Histogram changes from positive to negative.**"
      ],
      "metadata": {
        "id": "LTrBuZvLwg1W"
      }
    },
    {
      "cell_type": "code",
      "source": [
        "! pip install git+https://github.com/quantiacs/toolbox.git 2>/dev/null"
      ],
      "metadata": {
        "id": "1jNzcOfkwc0n"
      },
      "execution_count": null,
      "outputs": []
    },
    {
      "cell_type": "code",
      "source": [
        "import xarray as xr\n",
        "import qnt.ta as qnta\n",
        "import qnt.data as qndata\n",
        "import qnt.output as qnout\n",
        "import qnt.stats as qnstats\n",
        "import qnt.graph as qngraph\n",
        "\n",
        "# MACD function\n",
        "def macd(close, fast_period=12, slow_period=26, signal_period=9):\n",
        "    macd_line = qnta.ema(close, fast_period) - qnta.ema(close, slow_period)\n",
        "    macd_signal = qnta.ema(macd_line, signal_period)\n",
        "    return macd_line, macd_signal\n",
        "\n",
        "# Improved strategy with MACD and stronger momentum approach\n",
        "def strategy(data):\n",
        "    close = data.sel(field=\"close\")\n",
        "    ma_slow = qnta.lwma(close, 50)\n",
        "    ma_fast = qnta.lwma(close, 10)\n",
        "\n",
        "    # Calculate MACD\n",
        "    macd_line, macd_signal = macd(close)\n",
        "\n",
        "    # Strong momentum strategy\n",
        "    # Long when MACD crosses above signal line and fast MA > slow MA\n",
        "    signals = xr.where((macd_line > macd_signal) & (ma_fast > ma_slow), 1, 1)\n",
        "\n",
        "    # Optionally add short logic or stop-loss/take-profit filters here\n",
        "    return signals\n",
        "\n",
        "# Load data (use more assets for diversification if possible)\n",
        "data = qndata.stocks.load_ndx_data(min_date=\"2005-01-01\")  # Or use different sets for better diversification\n",
        "\n",
        "# Apply strategy to the data\n",
        "output = strategy(data)\n",
        "\n",
        "# Clean output and make sure it's error-free\n",
        "output = qnout.clean(output, data)\n",
        "\n",
        "# Check the output\n",
        "qnout.check(output, data)\n",
        "\n",
        "# Save the results (for competition submission)\n",
        "qnout.write(output)\n",
        "\n",
        "# Calculate stats\n",
        "stats = qnstats.calc_stat(data, output.sel(time=slice(\"2006-01-01\", None)))\n",
        "\n",
        "# Display the stats\n",
        "print(stats.to_pandas().tail())\n",
        "\n",
        "# Generate performance plot\n",
        "qngraph.make_major_plots(stats)\n",
        "\n"
      ],
      "metadata": {
        "colab": {
          "base_uri": "https://localhost:8080/",
          "height": 385
        },
        "id": "6um-0qZVwiFe",
        "outputId": "746e7a7e-1db2-4c02-fcdf-18bc6f3ceb95"
      },
      "execution_count": 3,
      "outputs": [
        {
          "output_type": "error",
          "ename": "ModuleNotFoundError",
          "evalue": "No module named 'qnt'",
          "traceback": [
            "\u001b[0;31m---------------------------------------------------------------------------\u001b[0m",
            "\u001b[0;31mModuleNotFoundError\u001b[0m                       Traceback (most recent call last)",
            "\u001b[0;32m<ipython-input-3-7fa7649f26ac>\u001b[0m in \u001b[0;36m<cell line: 0>\u001b[0;34m()\u001b[0m\n\u001b[1;32m      1\u001b[0m \u001b[0;32mimport\u001b[0m \u001b[0mxarray\u001b[0m \u001b[0;32mas\u001b[0m \u001b[0mxr\u001b[0m\u001b[0;34m\u001b[0m\u001b[0;34m\u001b[0m\u001b[0m\n\u001b[0;32m----> 2\u001b[0;31m \u001b[0;32mimport\u001b[0m \u001b[0mqnt\u001b[0m\u001b[0;34m.\u001b[0m\u001b[0mta\u001b[0m \u001b[0;32mas\u001b[0m \u001b[0mqnta\u001b[0m\u001b[0;34m\u001b[0m\u001b[0;34m\u001b[0m\u001b[0m\n\u001b[0m\u001b[1;32m      3\u001b[0m \u001b[0;32mimport\u001b[0m \u001b[0mqnt\u001b[0m\u001b[0;34m.\u001b[0m\u001b[0mdata\u001b[0m \u001b[0;32mas\u001b[0m \u001b[0mqndata\u001b[0m\u001b[0;34m\u001b[0m\u001b[0;34m\u001b[0m\u001b[0m\n\u001b[1;32m      4\u001b[0m \u001b[0;32mimport\u001b[0m \u001b[0mqnt\u001b[0m\u001b[0;34m.\u001b[0m\u001b[0moutput\u001b[0m \u001b[0;32mas\u001b[0m \u001b[0mqnout\u001b[0m\u001b[0;34m\u001b[0m\u001b[0;34m\u001b[0m\u001b[0m\n\u001b[1;32m      5\u001b[0m \u001b[0;32mimport\u001b[0m \u001b[0mqnt\u001b[0m\u001b[0;34m.\u001b[0m\u001b[0mstats\u001b[0m \u001b[0;32mas\u001b[0m \u001b[0mqnstats\u001b[0m\u001b[0;34m\u001b[0m\u001b[0;34m\u001b[0m\u001b[0m\n",
            "\u001b[0;31mModuleNotFoundError\u001b[0m: No module named 'qnt'",
            "",
            "\u001b[0;31m---------------------------------------------------------------------------\u001b[0;32m\nNOTE: If your import is failing due to a missing package, you can\nmanually install dependencies using either !pip or !apt.\n\nTo view examples of installing some common dependencies, click the\n\"Open Examples\" button below.\n\u001b[0;31m---------------------------------------------------------------------------\u001b[0m\n"
          ],
          "errorDetails": {
            "actions": [
              {
                "action": "open_url",
                "actionText": "Open Examples",
                "url": "/notebooks/snippets/importing_libraries.ipynb"
              }
            ]
          }
        }
      ]
    }
  ],
  "metadata": {
    "kernelspec": {
      "display_name": "Python 3 (ipykernel)",
      "language": "python",
      "name": "python3"
    },
    "language_info": {
      "codemirror_mode": {
        "name": "ipython",
        "version": 3
      },
      "file_extension": ".py",
      "mimetype": "text/x-python",
      "name": "python",
      "nbconvert_exporter": "python",
      "pygments_lexer": "ipython3",
      "version": "3.10.14"
    },
    "colab": {
      "provenance": [],
      "include_colab_link": true
    }
  },
  "nbformat": 4,
  "nbformat_minor": 0
}